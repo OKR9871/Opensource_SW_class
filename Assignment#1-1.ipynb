{
 "cells": [
  {
   "cell_type": "markdown",
   "metadata": {},
   "source": [
    "## 1. 정수를 입력 받아 곱셈 과정을 출력하는 프로그램 작성(각 단계별 숫자의 위치를 맞춰서 출력하는 것이 중요)"
   ]
  },
  {
   "cell_type": "code",
   "execution_count": 1,
   "metadata": {},
   "outputs": [],
   "source": [
    "def mul(x, y):\n",
    "    result= x * y\n",
    "    result = str(result) \n",
    "    \n",
    "    length_mul = max(len(str(x*y)),len(str(x)),len(str(y)))+2\n",
    "    \n",
    "    line = '-'\n",
    "    print(('{:>'+str(length_mul)+'}').format(x))\n",
    "    print(('X'+'{:>'+str(length_mul-1)+'}').format(y))\n",
    "    print(('{:->'+str(length_mul)+'}').format(line))\n",
    "    \n",
    "    \n",
    "    if x<0:\n",
    "        str_x = str(x)\n",
    "        str_x = str_x[1:]\n",
    "        x = int(str_x)\n",
    "    str_y = str(y)\n",
    "    if y<0:\n",
    "        str_y = str_y[1:]\n",
    "    \n",
    "    len_x = len(str(x))\n",
    "    len_y = len(str_y)\n",
    "    \n",
    "    for i in range(len_y):\n",
    "        y = str_y[len_y-i-1]\n",
    "        print(('{:>'+str(length_mul-i)+'}').format(x*int(y)))\n",
    "\n",
    "    print(('{:->'+str(length_mul)+'}').format(line))\n",
    "   \n",
    "    print(('{:>'+str(length_mul)+'}').format(result))\n",
    "    "
   ]
  },
  {
   "cell_type": "code",
   "execution_count": 2,
   "metadata": {},
   "outputs": [],
   "source": [
    "def input_num(count):\n",
    "    while(True):\n",
    "        print(\"%d. %d번째 n자리 정수 출력\"%(count, count))\n",
    "        x = input(\"n자리 정수를 입력하세요: \")\n",
    "        try:\n",
    "            int(x)\n",
    "            it_is = True\n",
    "        except ValueError:\n",
    "            it_is = False\n",
    "        if not it_is:\n",
    "            continue \n",
    "        return x"
   ]
  },
  {
   "cell_type": "code",
   "execution_count": 3,
   "metadata": {},
   "outputs": [
    {
     "name": "stdout",
     "output_type": "stream",
     "text": [
      "1. 1번째 n자리 정수 출력\n",
      "n자리 정수를 입력하세요: 10\n",
      "2. 2번째 n자리 정수 출력\n",
      "n자리 정수를 입력하세요: 10\n",
      "   10\n",
      "X  10\n",
      "-----\n",
      "    0\n",
      "  10\n",
      "-----\n",
      "  100\n"
     ]
    },
    {
     "data": {
      "text/plain": [
       "'\\nTest 용으로 사용\\n'"
      ]
     },
     "execution_count": 3,
     "metadata": {},
     "output_type": "execute_result"
    }
   ],
   "source": [
    "num = []\n",
    "for i in range(2):\n",
    "    tmp = input_num(i+1)\n",
    "    num.append(tmp)\n",
    "mul(int(num[0]), int(num[1]))\n",
    "\n",
    "# test용 print\n",
    "# mul(1, 1)\n",
    "# mul(0, -1)\n",
    "# mul(-1, 0)\n",
    "# mul(-1, -1)\n",
    "# mul(0, 1)\n",
    "# mul(1, 0)\n",
    "\n",
    "# mul(0, 123456789)\n",
    "# mul(123456789, 0)\n",
    "\n",
    "# mul(0, -123456789)\n",
    "# mul(-123456789, 0)\n",
    "\n",
    "# mul(10, -123456789)\n",
    "# mul(-123456789, 10)\n",
    "\n",
    "# mul(-10, -123456789)\n",
    "# mul(-123456789, -10)\n",
    "\n",
    "# mul(123456, 100)\n",
    "# mul(100, 123456)"
   ]
  },
  {
   "cell_type": "code",
   "execution_count": null,
   "metadata": {},
   "outputs": [],
   "source": []
  }
 ],
 "metadata": {
  "kernelspec": {
   "display_name": "Python 3",
   "language": "python",
   "name": "python3"
  },
  "language_info": {
   "codemirror_mode": {
    "name": "ipython",
    "version": 3
   },
   "file_extension": ".py",
   "mimetype": "text/x-python",
   "name": "python",
   "nbconvert_exporter": "python",
   "pygments_lexer": "ipython3",
   "version": "3.8.5"
  }
 },
 "nbformat": 4,
 "nbformat_minor": 4
}
