{
 "cells": [
  {
   "cell_type": "markdown",
   "metadata": {},
   "source": [
    "## Exercise1. Conver the first letter of the name to uppercase and remove '-' from the phone number. Print the following output"
   ]
  },
  {
   "cell_type": "code",
   "execution_count": 1,
   "metadata": {},
   "outputs": [
    {
     "name": "stdout",
     "output_type": "stream",
     "text": [
      "abel 010-1234-5678 --> Abel 01012345678\n",
      "nenny 010-9876-5432 --> Nenny 01098765432\n"
     ]
    }
   ],
   "source": [
    "A = 'abel'\n",
    "B = 'nenny'\n",
    "numberA = \"010-1234-5678\"\n",
    "numberB = \"010-9876-5432\"\n",
    "\n",
    "upperA = A[0].upper()+A[1:]\n",
    "print(A, numberA, \"-->\", upperA, numberA.replace('-',''))\n",
    "\n",
    "upperB = B[0].upper()+B[1:]\n",
    "print(B, numberB, \"-->\", upperB, numberB.replace('-',''))"
   ]
  },
  {
   "cell_type": "markdown",
   "metadata": {},
   "source": [
    "## Exercise2. Create an odd list and an even list from 1 to 10 using a range function as an input. And print these two lists. Then, create a new list by combining two lists and sort this new list in descending order"
   ]
  },
  {
   "cell_type": "code",
   "execution_count": 2,
   "metadata": {},
   "outputs": [
    {
     "name": "stdout",
     "output_type": "stream",
     "text": [
      "list1: [1, 3, 5, 7, 9]\n",
      "list2: [2, 4, 6, 8, 10]\n",
      "result: [10, 9, 8, 7, 6, 5, 4, 3, 2, 1]\n"
     ]
    }
   ],
   "source": [
    "oddlist = (list(range(1,11,2)))\n",
    "evenlist = (list(range(2,11,2)))\n",
    "\n",
    "print('list1:', oddlist)\n",
    "print('list2:', evenlist)\n",
    "result = oddlist + evenlist\n",
    "result.sort(reverse=True)\n",
    "print('result:', result)"
   ]
  },
  {
   "cell_type": "markdown",
   "metadata": {},
   "source": [
    "## Exercise3. Create two tuples x and y. Then, create a new tuple by combining these two tuples. Finally, drop the last item, 'b', throught slicing the newly created tuple"
   ]
  },
  {
   "cell_type": "code",
   "execution_count": 3,
   "metadata": {},
   "outputs": [
    {
     "name": "stdout",
     "output_type": "stream",
     "text": [
      "x: (1, 2, 3)\n",
      "y: ('a', 'b')\n",
      "drop'b': (1, 2, 3, 'a')\n"
     ]
    }
   ],
   "source": [
    "x = (1, 2, 3)\n",
    "y = ('a', 'b')\n",
    "\n",
    "print('x:', x)\n",
    "print('y:', y)\n",
    "\n",
    "result = x + y\n",
    "print(\"drop'b':\",result[:4])"
   ]
  },
  {
   "cell_type": "markdown",
   "metadata": {},
   "source": [
    "## Exercise4. Create a dictionary named dic. Then, delete the element whose key is 'Lee' and print the keys and values of this dictionary"
   ]
  },
  {
   "cell_type": "code",
   "execution_count": 6,
   "metadata": {},
   "outputs": [
    {
     "name": "stdout",
     "output_type": "stream",
     "text": [
      "dic: {'Kim': 'Math', 'Lee': 'English', 'Han': 'Art', 'Ahn': 'Physics'}\n",
      "dict_keys(['Kim', 'Han', 'Ahn'])\n",
      "dict_values(['Math', 'Art', 'Physics'])\n"
     ]
    }
   ],
   "source": [
    "dic = {'Kim' : 'Math', 'Lee':'English','Han':'Art','Ahn':'Physics'}\n",
    "print('dic:',dic)\n",
    "\n",
    "del dic['Lee']\n",
    "print(dic.keys())\n",
    "print(dic.values())"
   ]
  },
  {
   "cell_type": "code",
   "execution_count": null,
   "metadata": {},
   "outputs": [],
   "source": []
  }
 ],
 "metadata": {
  "kernelspec": {
   "display_name": "Python 3",
   "language": "python",
   "name": "python3"
  },
  "language_info": {
   "codemirror_mode": {
    "name": "ipython",
    "version": 3
   },
   "file_extension": ".py",
   "mimetype": "text/x-python",
   "name": "python",
   "nbconvert_exporter": "python",
   "pygments_lexer": "ipython3",
   "version": "3.8.5"
  }
 },
 "nbformat": 4,
 "nbformat_minor": 4
}
