{
 "cells": [
  {
   "cell_type": "markdown",
   "metadata": {},
   "source": [
    "## Exercise1. Frist adding an additional paragraph to the existing test.txt file"
   ]
  },
  {
   "cell_type": "code",
   "execution_count": 1,
   "metadata": {},
   "outputs": [],
   "source": [
    "f = open(\"test.txt\", \"w\")\n",
    "data = \"Apple iPhone risk from powerful motorbike vibrations:\\n\"\n",
    "f.write(data)\n",
    "f.close()"
   ]
  },
  {
   "cell_type": "code",
   "execution_count": 2,
   "metadata": {},
   "outputs": [],
   "source": [
    "f = open(\"test.txt\", \"a\")\n",
    "data = \"Engine vibrations can harm phones'\\nOptical-image stabilisation or closed-loop autofocus systems, it says.\\nOwnersof scooters and mopeds should also use vibration-dampening mounts\\n\"\n",
    "f.write(data)\n",
    "f.close()"
   ]
  },
  {
   "cell_type": "code",
   "execution_count": 3,
   "metadata": {},
   "outputs": [],
   "source": [
    "f1 = open(\"test.txt\", \"r\")\n",
    "f2 = open(\"test_copy.txt\", \"w\")\n",
    "while(True):\n",
    "    line = f1.readline()\n",
    "    if not line:\n",
    "        break\n",
    "    f2.write(line)\n",
    "f1.close()\n",
    "f2.close()"
   ]
  },
  {
   "cell_type": "markdown",
   "metadata": {},
   "source": [
    "## Exercise2. Create a student.txt file through a function that generates students'grades"
   ]
  },
  {
   "cell_type": "code",
   "execution_count": 12,
   "metadata": {},
   "outputs": [],
   "source": [
    "def student(name, mid, final, assignment):\n",
    "    f = open(\"student.txt\", \"a\")\n",
    "    avg = (mid+final+assignment)/3\n",
    "    if avg>=90:\n",
    "        grade='A'\n",
    "    elif avg>=80:\n",
    "        grade='B'\n",
    "    else:\n",
    "        grade='C'\n",
    "    data=name+\"|\"+str(mid)+'|'+str(final)+'|'+str(assignment)+'|'+str(avg)+'|'+grade+'\\n'\n",
    "    f.write(data)\n",
    "    f.close()"
   ]
  },
  {
   "cell_type": "code",
   "execution_count": 13,
   "metadata": {},
   "outputs": [],
   "source": [
    "student('Jerry',90,89,99)\n",
    "student('Eric',56,45,80)\n",
    "student('Sun',20,79,60)\n",
    "student('Jacob',40,39,98)"
   ]
  },
  {
   "cell_type": "markdown",
   "metadata": {},
   "source": [
    "## Exercise3. Create a function that opens a student.txt file and allows students to search thier average and grade by their names"
   ]
  },
  {
   "cell_type": "code",
   "execution_count": 30,
   "metadata": {},
   "outputs": [],
   "source": [
    "def search(name):\n",
    "    f = open(\"student.txt\", \"r\")\n",
    "    \n",
    "    while(True):\n",
    "        line = f.readline()\n",
    "        if not line:\n",
    "            print(\"없음\")\n",
    "            break\n",
    "        if line.find(name)!=-1:\n",
    "            word = line.split('|')\n",
    "            avg = word[4]\n",
    "            grade = word[5]\n",
    "            print(\"average %f, grade: %s\\n\"%(float(avg), grade))\n",
    "            break"
   ]
  },
  {
   "cell_type": "code",
   "execution_count": 32,
   "metadata": {},
   "outputs": [
    {
     "name": "stdout",
     "output_type": "stream",
     "text": [
      "average 53.000000, grade: C\n",
      "\n",
      "\n",
      "average 59.000000, grade: C\n",
      "\n",
      "\n",
      "없음\n"
     ]
    }
   ],
   "source": [
    "search('Sun')\n",
    "search('Jacob')\n",
    "search('Yuna')"
   ]
  },
  {
   "cell_type": "code",
   "execution_count": null,
   "metadata": {},
   "outputs": [],
   "source": []
  }
 ],
 "metadata": {
  "kernelspec": {
   "display_name": "Python 3",
   "language": "python",
   "name": "python3"
  },
  "language_info": {
   "codemirror_mode": {
    "name": "ipython",
    "version": 3
   },
   "file_extension": ".py",
   "mimetype": "text/x-python",
   "name": "python",
   "nbconvert_exporter": "python",
   "pygments_lexer": "ipython3",
   "version": "3.8.5"
  }
 },
 "nbformat": 4,
 "nbformat_minor": 4
}
