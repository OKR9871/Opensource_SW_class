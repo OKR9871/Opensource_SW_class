{
 "cells": [
  {
   "cell_type": "markdown",
   "metadata": {},
   "source": [
    "## Exercise1. Write a program to find out what types of symmetry are between two points, such as the same points, x-axis symmetry, y-axis symmetry, origin symmetry, or nothing. Both the x-and y-coordinates are integer values"
   ]
  },
  {
   "cell_type": "code",
   "execution_count": 2,
   "metadata": {},
   "outputs": [
    {
     "name": "stdout",
     "output_type": "stream",
     "text": [
      "X-axis symmetry\n"
     ]
    }
   ],
   "source": [
    "a = (5, 5)\n",
    "b = (-5, 5)\n",
    "\n",
    "if a == b:\n",
    "    print('same points')\n",
    "elif a[0]==-b[0]and a[1]==-b[1]:\n",
    "    print('origin symmetry')\n",
    "elif a[0]==-b[0]and a[1]==b[1]:\n",
    "    print('X-axis symmetry')\n",
    "elif a[0]==b[0]and a[1]==-b[1]:\n",
    "    print('Y-axis symmetry')\n",
    "else:\n",
    "    print('nothing')"
   ]
  },
  {
   "cell_type": "markdown",
   "metadata": {},
   "source": [
    "## Exercise2. Assume that your input value is the time on a clock that is 30 minutes fast. Write a program that converts the input to the correct time"
   ]
  },
  {
   "cell_type": "code",
   "execution_count": 13,
   "metadata": {},
   "outputs": [
    {
     "name": "stdout",
     "output_type": "stream",
     "text": [
      "23:53\n"
     ]
    }
   ],
   "source": [
    "time = '00:23'\n",
    "\n",
    "hh,mm = time.split(':')\n",
    "h = int(hh)\n",
    "m = int(mm)\n",
    "\n",
    "if m>30:\n",
    "    if(h<10):\n",
    "        print('0'+str(h)+':'+str(m-30))\n",
    "    else:\n",
    "        print(str(h)+':'+str(m-30))\n",
    "        \n",
    "elif m < 30:\n",
    "    if h > 0:\n",
    "        if (h < 11):\n",
    "            print(\"0\" + str(h - 1) + \":\" + str(m + 30))\n",
    "        else:\n",
    "            print(str(h - 1) + \":\" + str(m + 30))\n",
    "    else:\n",
    "        print(\"23:\" + str(m + 30))"
   ]
  },
  {
   "cell_type": "markdown",
   "metadata": {},
   "source": [
    "## Exercise3. Write the code to decide the winner of rock-paper-scissors"
   ]
  },
  {
   "cell_type": "code",
   "execution_count": 15,
   "metadata": {},
   "outputs": [
    {
     "name": "stdout",
     "output_type": "stream",
     "text": [
      "player2\n"
     ]
    }
   ],
   "source": [
    "player1 = '가위'\n",
    "player2 = '바위'\n",
    "\n",
    "if player1=='보':\n",
    "    if player2=='가위':\n",
    "        print(\"player2\")\n",
    "    elif player2=='바위':\n",
    "        print(\"player1\")\n",
    "    elif player2=='보':\n",
    "        print(\"draw\")\n",
    "        \n",
    "elif player1=='가위':\n",
    "    if player2=='가위':\n",
    "        print(\"draw\")\n",
    "    elif player2=='바위':\n",
    "        print(\"player2\")\n",
    "    elif player2=='보':\n",
    "        print(\"player1\")\n",
    "        \n",
    "elif player1=='주먹':\n",
    "    if player2=='가위':\n",
    "        print(\"player1\")\n",
    "    elif player2=='바위':\n",
    "        print(\"draw\")\n",
    "    elif player2=='보':\n",
    "        print(\"player2\")"
   ]
  },
  {
   "cell_type": "code",
   "execution_count": null,
   "metadata": {},
   "outputs": [],
   "source": []
  }
 ],
 "metadata": {
  "kernelspec": {
   "display_name": "Python 3",
   "language": "python",
   "name": "python3"
  },
  "language_info": {
   "codemirror_mode": {
    "name": "ipython",
    "version": 3
   },
   "file_extension": ".py",
   "mimetype": "text/x-python",
   "name": "python",
   "nbconvert_exporter": "python",
   "pygments_lexer": "ipython3",
   "version": "3.8.5"
  }
 },
 "nbformat": 4,
 "nbformat_minor": 4
}
