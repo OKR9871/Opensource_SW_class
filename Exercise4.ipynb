{
 "cells": [
  {
   "cell_type": "markdown",
   "metadata": {},
   "source": [
    "## Exercise1. Make a fruit vending machine by using 'while loop' and 'if statement'"
   ]
  },
  {
   "cell_type": "code",
   "execution_count": 6,
   "metadata": {},
   "outputs": [
    {
     "name": "stdout",
     "output_type": "stream",
     "text": [
      "1: Insert coin | 2: Item list | 3: Select fruit | 4: Change money | Q: exit\n",
      "Please select menu: 1\n",
      "\n",
      "How much money do you want to put in? 350\n",
      "You insert 350 coins\n",
      "\n",
      "1: Insert coin | 2: Item list | 3: Select fruit | 4: Change money | Q: exit\n",
      "Please select menu: 4\n",
      "\n",
      "You get 350 coins back\n",
      "\n",
      "1: Insert coin | 2: Item list | 3: Select fruit | 4: Change money | Q: exit\n",
      "Please select menu: 2\n",
      "\n",
      "::::1. Orange: 300 :::: :::: 2. Shine muscat : 1000::::\n",
      "1: Insert coin | 2: Item list | 3: Select fruit | 4: Change money | Q: exit\n",
      "Please select menu: 3\n",
      "\n",
      "Which fruit do you want?1\n",
      "You are short of money\n",
      "Return to start menu\n",
      "\n",
      "1: Insert coin | 2: Item list | 3: Select fruit | 4: Change money | Q: exit\n",
      "Please select menu: Q\n",
      "End\n"
     ]
    }
   ],
   "source": [
    "coin = 0\n",
    "while 1: \n",
    "    print(\"1: Insert coin | 2: Item list | 3: Select fruit | 4: Change money | Q: exit\")\n",
    "    order = input(\"Please select menu: \")\n",
    "    \n",
    "    if order == \"1\":\n",
    "        coin = input(\"\\nHow much money do you want to put in? \")\n",
    "        coin = int(coin)\n",
    "        try:\n",
    "            print(\"You insert\", coin, \"coins\\n\")\n",
    "        except ValueError:\n",
    "            print(\"wrong value error! Return to start menu\\n\")\n",
    "            \n",
    "    elif order == \"2\":\n",
    "        print(\"\\n::::1. Orange: 300 :::: :::: 2. Shine muscat : 1000::::\")\n",
    "        \n",
    "    elif order == \"3\":\n",
    "        fruit = input(\"\\nWhich fruit do you want?\")\n",
    "        if fruit == \"1\" and coin >= 300:\n",
    "            coin = coin - 300\n",
    "            print(\"You get an orange\\nYou have\", coin, \"coins\\n\")\n",
    "           \n",
    "        elif fruit == \"1\" and coin < 300:\n",
    "            print(\"You are short of money\\nReturn to start menu\\n\")\n",
    "            \n",
    "        elif fruit == \"2\" and coin >= 1000:\n",
    "            coin = coin - 1000\n",
    "            print(\"You get a shine muscat\\nYou have\",coin,\"coins\\n\")\n",
    "            \n",
    "        elif fruit == \"2\" and coin < 1000:\n",
    "            print(\"You are short of money\\nReturn to start menu\\n\")\n",
    "        \n",
    "    elif order == \"4\":\n",
    "        print(\"\\nYou get\",coin,\"coins back\\n\")\n",
    "        coin = 0\n",
    "        \n",
    "    elif order == \"Q\":\n",
    "        break\n",
    "        \n",
    "    else:\n",
    "        continue\n",
    "        \n",
    "print(\"End\")"
   ]
  },
  {
   "cell_type": "markdown",
   "metadata": {},
   "source": [
    "## Exercise2. Get the average(평균) and the variance(분산) of the list"
   ]
  },
  {
   "cell_type": "code",
   "execution_count": 7,
   "metadata": {},
   "outputs": [
    {
     "name": "stdout",
     "output_type": "stream",
     "text": [
      "80.0\n",
      "180.0\n"
     ]
    }
   ],
   "source": [
    "nlist = [100,90,80,55,95,80,65,75,70,90]\n",
    "sum = 0\n",
    "for i in nlist:\n",
    "    sum = sum + i\n",
    "    \n",
    "mean = sum / len(nlist)\n",
    "\n",
    "vsum = 0\n",
    "for i in nlist:\n",
    "    vsum = vsum +(i-mean)**2\n",
    "\n",
    "variance = vsum/len(nlist)\n",
    "\n",
    "print(mean)\n",
    "print(variance)"
   ]
  },
  {
   "cell_type": "markdown",
   "metadata": {},
   "source": [
    "## Exercise3. Use range to implement the code that determines students'grades."
   ]
  },
  {
   "cell_type": "code",
   "execution_count": 11,
   "metadata": {},
   "outputs": [
    {
     "name": "stdout",
     "output_type": "stream",
     "text": [
      "1학생은 55점으로 F입니다.\n",
      "2학생은 90점으로 A입니다.\n",
      "3학생은 89점으로 B입니다.\n",
      "4학생은 76점으로 C입니다.\n",
      "5학생은 37점으로 F입니다.\n",
      "6학생은 100점으로 A입니다.\n",
      "7학생은 67점으로 D입니다.\n"
     ]
    }
   ],
   "source": [
    "scores = [55,90,89,76,37,100,67]\n",
    "\n",
    "for index, i in enumerate(scores):\n",
    "    if i >= 90:\n",
    "        print(str(index+1)+'학생은 '+str(i)+'점으로 A입니다.')\n",
    "    elif i >= 80:\n",
    "        print(str(index+1)+'학생은 '+str(i)+'점으로 B입니다.')\n",
    "    elif i >= 70:\n",
    "        print(str(index+1)+'학생은 '+str(i)+'점으로 C입니다.')\n",
    "    elif i >= 60:\n",
    "        print(str(index+1)+'학생은 '+str(i)+'점으로 D입니다.')\n",
    "    else:\n",
    "        print(str(index+1)+'학생은 '+str(i)+'점으로 F입니다.')\n",
    "    "
   ]
  },
  {
   "cell_type": "markdown",
   "metadata": {},
   "source": [
    "## Exercise4. Find the number of prime numbers and composite numbers"
   ]
  },
  {
   "cell_type": "code",
   "execution_count": 16,
   "metadata": {},
   "outputs": [
    {
     "name": "stdout",
     "output_type": "stream",
     "text": [
      "prime numbers:  [3, 2, 7, 13, 37] 5\n",
      "composite numbers:  [4, 9, 18, 22, 6, 24, 12] 7\n"
     ]
    }
   ],
   "source": [
    "a = [4,3,2,9,7,18,22,13,6,24,37,12]\n",
    "\n",
    "prime_num = []\n",
    "composite_num = []\n",
    "\n",
    "for i in a:\n",
    "    check = False\n",
    "    for j in range(2, i):\n",
    "        if i % j == 0:\n",
    "            check = True\n",
    "            break\n",
    "    if check:\n",
    "        composite_num.append(i)\n",
    "    else:\n",
    "        prime_num.append(i)\n",
    "print('prime numbers: ', prime_num, len(prime_num))\n",
    "print('composite numbers: ', composite_num, len(composite_num))"
   ]
  },
  {
   "cell_type": "markdown",
   "metadata": {},
   "source": [
    "## Exercise5. Convert the 2-D list into 1D list"
   ]
  },
  {
   "cell_type": "code",
   "execution_count": 19,
   "metadata": {},
   "outputs": [
    {
     "data": {
      "text/plain": [
       "[1, 2, 5, 4, 6, 6, 7, 8, 9, 10]"
      ]
     },
     "execution_count": 19,
     "metadata": {},
     "output_type": "execute_result"
    }
   ],
   "source": [
    "twod =[[1,2],[5,4],[6,6],[7,8],[9,10]]\n",
    "\n",
    "a = []\n",
    "for x in twod:\n",
    "    for y in x:\n",
    "        a.append(y)\n",
    "a "
   ]
  },
  {
   "cell_type": "code",
   "execution_count": null,
   "metadata": {},
   "outputs": [],
   "source": []
  }
 ],
 "metadata": {
  "kernelspec": {
   "display_name": "Python 3",
   "language": "python",
   "name": "python3"
  },
  "language_info": {
   "codemirror_mode": {
    "name": "ipython",
    "version": 3
   },
   "file_extension": ".py",
   "mimetype": "text/x-python",
   "name": "python",
   "nbconvert_exporter": "python",
   "pygments_lexer": "ipython3",
   "version": "3.8.5"
  }
 },
 "nbformat": 4,
 "nbformat_minor": 4
}
