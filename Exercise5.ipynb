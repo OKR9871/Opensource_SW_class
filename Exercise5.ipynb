{
 "cells": [
  {
   "cell_type": "markdown",
   "metadata": {},
   "source": [
    "## Exercise1. Make a factorial calculator (n!) function"
   ]
  },
  {
   "cell_type": "code",
   "execution_count": 14,
   "metadata": {},
   "outputs": [],
   "source": [
    "def Fact(num):\n",
    "    if int(num)<=1:\n",
    "        return 1 \n",
    "    else:\n",
    "        return int(num) * Fact(int(num-1))\n",
    "        "
   ]
  },
  {
   "cell_type": "code",
   "execution_count": 16,
   "metadata": {},
   "outputs": [
    {
     "name": "stdout",
     "output_type": "stream",
     "text": [
      "num:-1\n",
      "error\n"
     ]
    }
   ],
   "source": [
    "n = input('num:')\n",
    "if int(n) < 0:\n",
    "    print('error')\n",
    "else:\n",
    "    result = Fact(int(n))\n",
    "    print(result)"
   ]
  },
  {
   "cell_type": "markdown",
   "metadata": {},
   "source": [
    "## Exercise2. Based on the two function explained below, write a program that displays the process of the product of 2-digit natural number"
   ]
  },
  {
   "cell_type": "code",
   "execution_count": 29,
   "metadata": {},
   "outputs": [],
   "source": [
    "def input_num():\n",
    "    print(\"1. 1번째 2자리 자연수 출력\")\n",
    "    check = 0\n",
    "    num = []\n",
    "    while(True):\n",
    "        n = input(\"2자리 자연수를 입력하세요: \")\n",
    "        if int(n)<10 or int(n)>=100:\n",
    "            print(\"2자리 자연수가 아닙니다. 다시입력하세요\")\n",
    "        else:\n",
    "            check+=1\n",
    "            num.append(n)\n",
    "            if check==2:\n",
    "                break\n",
    "            print(\"2. 2번째 2자리 자연수 출력\")\n",
    "    return num"
   ]
  },
  {
   "cell_type": "code",
   "execution_count": 54,
   "metadata": {},
   "outputs": [],
   "source": [
    "def mul(x, y):\n",
    "    print('  '+x)\n",
    "    print('X '+y)\n",
    "    print('----')\n",
    "    print(\" %d\"%(int(x)*int(y[1])))\n",
    "    print(int(x)*int(y[0]))\n",
    "    print('----')\n",
    "    print(int(x)*int(y))"
   ]
  },
  {
   "cell_type": "code",
   "execution_count": 55,
   "metadata": {},
   "outputs": [
    {
     "name": "stdout",
     "output_type": "stream",
     "text": [
      "1. 1번째 2자리 자연수 출력\n",
      "2자리 자연수를 입력하세요: 50\n",
      "2. 2번째 2자리 자연수 출력\n",
      "2자리 자연수를 입력하세요: 43\n",
      "  50\n",
      "X 43\n",
      "----\n",
      " 150\n",
      "200\n",
      "----\n",
      "2150\n"
     ]
    }
   ],
   "source": [
    "num = input_num()\n",
    "mul(num[0], num[1])"
   ]
  },
  {
   "cell_type": "markdown",
   "metadata": {},
   "source": [
    "## Exercise3. Based on the two function explained below, write a program that shows the grade information of N students(0<N<10)"
   ]
  },
  {
   "cell_type": "code",
   "execution_count": 42,
   "metadata": {},
   "outputs": [],
   "source": [
    "\n",
    "    \n",
    "def student_grade(num):\n",
    "    d = []\n",
    "    i = 0\n",
    "    \n",
    "    while i < int(num):\n",
    "        value = input('학생%d의 점수를 입력하세요:' %i)\n",
    "        \n",
    "        if int(value) < 0 or int(value) > 100:\n",
    "            continue\n",
    "        else:\n",
    "            d.append(int(value))\n",
    "            i+=1  \n",
    "               \n",
    "    return d"
   ]
  },
  {
   "cell_type": "code",
   "execution_count": 43,
   "metadata": {},
   "outputs": [],
   "source": [
    "import math\n",
    "def grade_calculator(score):\n",
    "    print(\"학생점수:\",score)\n",
    "    sum = 0\n",
    "    for i in score:\n",
    "        sum += int(i)\n",
    "    mean = sum / len(score)\n",
    "    sum = 0\n",
    "    for i in score:\n",
    "        sum += (int(i)-mean)**2\n",
    "    std = math.sqrt(sum/len(score))\n",
    "    max_score = max(score)\n",
    "    min_score = min(score)\n",
    "    print(\"평균: \",mean)\n",
    "    print(\"표준편차: \",std)\n",
    "    print(\"최고점: \", max_score)\n",
    "    print(\"최저점: \",min_score)"
   ]
  },
  {
   "cell_type": "code",
   "execution_count": 44,
   "metadata": {},
   "outputs": [
    {
     "name": "stdout",
     "output_type": "stream",
     "text": [
      "학생수를 입력하세요:10\n",
      "학생0의 점수를 입력하세요:1\n",
      "학생1의 점수를 입력하세요:2\n",
      "학생2의 점수를 입력하세요:3\n",
      "학생3의 점수를 입력하세요:4\n",
      "학생4의 점수를 입력하세요:5\n",
      "학생5의 점수를 입력하세요:6\n",
      "학생6의 점수를 입력하세요:7\n",
      "학생7의 점수를 입력하세요:8\n",
      "학생8의 점수를 입력하세요:9\n",
      "학생9의 점수를 입력하세요:10\n",
      "학생점수: [1, 2, 3, 4, 5, 6, 7, 8, 9, 10]\n",
      "평균:  5.5\n",
      "표준편차:  2.8722813232690143\n",
      "최고점:  10\n",
      "최저점:  1\n"
     ]
    }
   ],
   "source": [
    "num = input(\"학생수를 입력하세요:\")\n",
    "score = student_grade(num)\n",
    "grade_calculator(score)"
   ]
  },
  {
   "cell_type": "markdown",
   "metadata": {},
   "source": [
    "## Exercise4. There are cell phones with model names that consist of both uppercase letter(A-Z) and numbers. We want to display these phones in order of model name."
   ]
  },
  {
   "cell_type": "code",
   "execution_count": 40,
   "metadata": {},
   "outputs": [
    {
     "name": "stdout",
     "output_type": "stream",
     "text": [
      "['A51E', '12KB', 'KDD7', '1Z92', 'P703', 'GP2Y', 'PPD4', 'PM7', '03Q', 'A3']\n",
      "['A3', '03Q', 'PM7', '1Z92', 'P703', '12KB', 'A51E', 'GP2Y', 'KDD7', 'PPD4']\n"
     ]
    }
   ],
   "source": [
    "def alphaCnt(s) :\n",
    "    answer = 0\n",
    "    for i in s :\n",
    "        if i >= \"A\" and i <= \"Z\" :\n",
    "            answer += 1\n",
    "    return answer\n",
    "\n",
    "\n",
    "modelName = [\"A51E\", \"12KB\", \"KDD7\", \"1Z92\", \"P703\", \"GP2Y\", \"PPD4\", \"PM7\", \"03Q\", \"A3\"]\n",
    "print(modelName)\n",
    "\n",
    "modelName = sorted(modelName, key = lambda x : (len(x), alphaCnt(x), x))\n",
    "print(modelName)"
   ]
  },
  {
   "cell_type": "code",
   "execution_count": null,
   "metadata": {},
   "outputs": [],
   "source": []
  }
 ],
 "metadata": {
  "kernelspec": {
   "display_name": "Python 3",
   "language": "python",
   "name": "python3"
  },
  "language_info": {
   "codemirror_mode": {
    "name": "ipython",
    "version": 3
   },
   "file_extension": ".py",
   "mimetype": "text/x-python",
   "name": "python",
   "nbconvert_exporter": "python",
   "pygments_lexer": "ipython3",
   "version": "3.8.5"
  }
 },
 "nbformat": 4,
 "nbformat_minor": 4
}
